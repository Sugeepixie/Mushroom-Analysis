{
 "cells": [
  {
   "cell_type": "code",
   "execution_count": 5,
   "id": "f07a6b60",
   "metadata": {},
   "outputs": [],
   "source": [
    "import pandas as pd\n",
    "import sqlite3\n",
    "import csv"
   ]
  },
  {
   "cell_type": "code",
   "execution_count": 2,
   "id": "420866b4",
   "metadata": {},
   "outputs": [],
   "source": [
    "con = sqlite3.connect(\"mushrooms.db\")\n",
    "cur = con.cursor()"
   ]
  },
  {
   "cell_type": "code",
   "execution_count": 4,
   "id": "ee889452",
   "metadata": {},
   "outputs": [
    {
     "ename": "SyntaxError",
     "evalue": "invalid syntax (3731144687.py, line 10)",
     "output_type": "error",
     "traceback": [
      "\u001b[1;36m  File \u001b[1;32m\"C:\\Users\\sugim\\AppData\\Local\\Temp\\ipykernel_27772\\3731144687.py\"\u001b[1;36m, line \u001b[1;32m10\u001b[0m\n\u001b[1;33m    sqlite> .mode csv\u001b[0m\n\u001b[1;37m            ^\u001b[0m\n\u001b[1;31mSyntaxError\u001b[0m\u001b[1;31m:\u001b[0m invalid syntax\n"
     ]
    }
   ],
   "source": [
    "# Import mushroom data as data frame\n",
    "\n",
    "file = open('mushrooms.csv')\n",
    "contents = csv.reader(file)\n",
    "    \n",
    "\n",
    "# mushrooms_encoded_df.head()\n",
    "\n",
    "# mushrooms_encoded_df = mushrooms_encoded_df.drop(columns=\"Unnamed: 0\")\n",
    "# mushrooms_encoded_df.head()\n",
    "\n"
   ]
  },
  {
   "cell_type": "code",
   "execution_count": null,
   "id": "e2334af9",
   "metadata": {},
   "outputs": [],
   "source": [
    "cur.execute(\"create table features (cap_shape varchar, cap_surface varchar, cap_color varchar, bruises varchar, odor varchar, gill_attachment varchar, gill_spacing varchar, gill_size varchar, gill_color varchar, stalk_shape varchar, stalk_root varchar, stalk_surface_above_ring varchar, stalk_surface_below_ring varchar, stalk_color_above_ring varchar, stalk_color_below_ring varchar, veil_type varchar, veil_color varchar, ring_number varchar, ring_type varchar, spore_print_color varchar, population varchar, habitat varchar)\")"
   ]
  },
  {
   "cell_type": "code",
   "execution_count": null,
   "id": "92e0a4e5",
   "metadata": {},
   "outputs": [],
   "source": [
    "# con.commit()"
   ]
  }
 ],
 "metadata": {
  "kernelspec": {
   "display_name": "Python 3 (ipykernel)",
   "language": "python",
   "name": "python3"
  },
  "language_info": {
   "codemirror_mode": {
    "name": "ipython",
    "version": 3
   },
   "file_extension": ".py",
   "mimetype": "text/x-python",
   "name": "python",
   "nbconvert_exporter": "python",
   "pygments_lexer": "ipython3",
   "version": "3.7.15"
  }
 },
 "nbformat": 4,
 "nbformat_minor": 5
}
