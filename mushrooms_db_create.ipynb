{
 "cells": [
  {
   "cell_type": "code",
   "execution_count": 1,
   "id": "f07a6b60",
   "metadata": {},
   "outputs": [],
   "source": [
    "# Import dependencies needed to create database\n",
    "\n",
    "import sqlite3\n",
    "import pandas as pd"
   ]
  },
  {
   "cell_type": "code",
   "execution_count": 2,
   "id": "7410c064",
   "metadata": {},
   "outputs": [],
   "source": [
    "# Connect to/create database\n",
    "\n",
    "con = sqlite3.connect(\"mushrooms.db\")\n",
    "cur = con.cursor()"
   ]
  },
  {
   "cell_type": "code",
   "execution_count": 4,
   "id": "c37e6b7c",
   "metadata": {},
   "outputs": [],
   "source": [
    "# Create dataframe from csv data file\n",
    "\n",
    "df = pd.read_csv('mushrooms.csv')"
   ]
  },
  {
   "cell_type": "code",
   "execution_count": 5,
   "id": "8a579bb5",
   "metadata": {},
   "outputs": [],
   "source": [
    "# Separate dataframe into features and target dataframes\n",
    "\n",
    "df_features = df.drop(['class'], axis=1)\n",
    "df_target = df[['class']]"
   ]
  },
  {
   "cell_type": "code",
   "execution_count": 6,
   "id": "a70f6fac",
   "metadata": {},
   "outputs": [],
   "source": [
    "# Create string to use when creating features table\n",
    "\n",
    "sql_cols = 'create table mushroom_features (id number, '\n",
    "for col in df_features.columns:\n",
    "   sql_cols += col + ' varchar,\\n'\n",
    "    \n",
    "create_features = f\"{sql_cols[:-2]})\""
   ]
  },
  {
   "cell_type": "code",
   "execution_count": 7,
   "id": "6b20cd58",
   "metadata": {
    "scrolled": true
   },
   "outputs": [
    {
     "name": "stdout",
     "output_type": "stream",
     "text": [
      "create table mushroom_features (id number, cap_shape varchar,\n",
      "cap_surface varchar,\n",
      "cap_color varchar,\n",
      "bruises varchar,\n",
      "odor varchar,\n",
      "gill_attachment varchar,\n",
      "gill_spacing varchar,\n",
      "gill_size varchar,\n",
      "gill_color varchar,\n",
      "stalk_shape varchar,\n",
      "stalk_root varchar,\n",
      "stalk_surface_above_ring varchar,\n",
      "stalk_surface_below_ring varchar,\n",
      "stalk_color_above_ring varchar,\n",
      "stalk_color_below_ring varchar,\n",
      "veil_type varchar,\n",
      "veil_color varchar,\n",
      "ring_number varchar,\n",
      "ring_type varchar,\n",
      "spore_print_color varchar,\n",
      "population varchar,\n",
      "habitat varchar)\n"
     ]
    }
   ],
   "source": [
    "# Check string created above \n",
    "\n",
    "print(create_features)"
   ]
  },
  {
   "cell_type": "code",
   "execution_count": 8,
   "id": "b4153077",
   "metadata": {},
   "outputs": [
    {
     "data": {
      "text/plain": [
       "<sqlite3.Cursor at 0x222bc1b5a40>"
      ]
     },
     "execution_count": 8,
     "metadata": {},
     "output_type": "execute_result"
    }
   ],
   "source": [
    "# Create features table\n",
    "\n",
    "cur.execute(create_features)"
   ]
  },
  {
   "cell_type": "code",
   "execution_count": 9,
   "id": "80a4f646",
   "metadata": {},
   "outputs": [],
   "source": [
    "# Iterate over features dataframe to get data (for insertion into features table)\n",
    "\n",
    "all_data_features = []\n",
    "for i, row in df_features.iterrows():\n",
    "    one_row = [i]\n",
    "    for col in row:\n",
    "        one_row.append(col)\n",
    "    all_data_features.append(one_row)"
   ]
  },
  {
   "cell_type": "code",
   "execution_count": 10,
   "id": "823a78ec",
   "metadata": {},
   "outputs": [],
   "source": [
    "# Insert data into features table\n",
    "\n",
    "cur.executemany('insert into mushroom_features values (:1, :2, :3, :4, :5, :6, :7, :8, :9, :10, :11, :12, :13, :14, :15, :16, :17, :18, :19, :20, :21, :22, :23)', all_data_features)\n",
    "con.commit()"
   ]
  },
  {
   "cell_type": "code",
   "execution_count": 11,
   "id": "868e1282",
   "metadata": {},
   "outputs": [
    {
     "data": {
      "text/plain": [
       "<sqlite3.Cursor at 0x222bc1b5a40>"
      ]
     },
     "execution_count": 11,
     "metadata": {},
     "output_type": "execute_result"
    }
   ],
   "source": [
    "# Create target table\n",
    "\n",
    "create_target = \"create table mushroom_targets (id number, class)\"\n",
    "\n",
    "cur.execute(create_target)"
   ]
  },
  {
   "cell_type": "code",
   "execution_count": 12,
   "id": "5fb96512",
   "metadata": {},
   "outputs": [],
   "source": [
    "# # Iterate over tables dataframe to get data (for insertion into features table)\n",
    "\n",
    "all_data_targets = []\n",
    "for i, row in df_target.iterrows():\n",
    "  one_row = [i]\n",
    "  for col in row:\n",
    "    one_row.append(col)\n",
    "  all_data_targets.append(one_row)"
   ]
  },
  {
   "cell_type": "code",
   "execution_count": 13,
   "id": "b0ffe1c2",
   "metadata": {},
   "outputs": [],
   "source": [
    "# Insert data into targets table\n",
    "\n",
    "cur.executemany('insert into mushroom_targets values (:1, :2)', all_data_targets)\n",
    "con.commit()"
   ]
  },
  {
   "cell_type": "code",
   "execution_count": 14,
   "id": "5fc4b42a",
   "metadata": {},
   "outputs": [
    {
     "name": "stdout",
     "output_type": "stream",
     "text": [
      "[('mushroom_features',), ('mushroom_targets',)]\n"
     ]
    }
   ],
   "source": [
    "# Make sure we have both tables in the database\n",
    "\n",
    "sql_query = \"\"\"SELECT name FROM sqlite_master  \n",
    "  WHERE type='table';\"\"\"\n",
    "\n",
    "cur.execute(sql_query)\n",
    "\n",
    "print(cur.fetchall())"
   ]
  }
 ],
 "metadata": {
  "kernelspec": {
   "display_name": "Python 3 (ipykernel)",
   "language": "python",
   "name": "python3"
  },
  "language_info": {
   "codemirror_mode": {
    "name": "ipython",
    "version": 3
   },
   "file_extension": ".py",
   "mimetype": "text/x-python",
   "name": "python",
   "nbconvert_exporter": "python",
   "pygments_lexer": "ipython3",
   "version": "3.9.12"
  }
 },
 "nbformat": 4,
 "nbformat_minor": 5
}
